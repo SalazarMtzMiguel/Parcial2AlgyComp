{
 "cells": [
  {
   "metadata": {},
   "cell_type": "markdown",
   "source": "# Examen Inciso 3",
   "id": "519a03e38f009276"
  },
  {
   "cell_type": "code",
   "id": "initial_id",
   "metadata": {
    "collapsed": true,
    "ExecuteTime": {
     "end_time": "2024-11-16T06:52:47.142589Z",
     "start_time": "2024-11-16T06:52:47.127024Z"
    }
   },
   "source": [
    "def interseccion_arrays(arr1, arr2):\n",
    "    # Crear una tabla hash para el primer array\n",
    "    hash_table = set(arr1)\n",
    "\n",
    "    # Array auxiliar para guardar las coincidencias\n",
    "    interseccion = []\n",
    "\n",
    "    # Recorrer el segundo array buscando coincidencias\n",
    "    for item in arr2:\n",
    "        if item in hash_table:\n",
    "            interseccion.append(item)\n",
    "\n",
    "    # Imprimir la intersección\n",
    "    print(\"Intersección:\", interseccion)\n",
    "    return interseccion\n",
    "\n",
    "# Ejemplo de uso con arrays grandes\n",
    "import random\n",
    "\n",
    "# Generar dos arrays grandes con valores aleatorios\n",
    "array1 = random.sample(range(1, 1000), 100)\n",
    "array2 = random.sample(range(1, 1000), 10)\n",
    "\n",
    "# Calcular la intersección\n",
    "interseccion_arrays(array1, array2)"
   ],
   "outputs": [
    {
     "name": "stdout",
     "output_type": "stream",
     "text": [
      "Intersección: [193, 928]\n"
     ]
    },
    {
     "data": {
      "text/plain": [
       "[193, 928]"
      ]
     },
     "execution_count": 10,
     "metadata": {},
     "output_type": "execute_result"
    }
   ],
   "execution_count": 10
  }
 ],
 "metadata": {
  "kernelspec": {
   "display_name": "Python 3",
   "language": "python",
   "name": "python3"
  },
  "language_info": {
   "codemirror_mode": {
    "name": "ipython",
    "version": 2
   },
   "file_extension": ".py",
   "mimetype": "text/x-python",
   "name": "python",
   "nbconvert_exporter": "python",
   "pygments_lexer": "ipython2",
   "version": "2.7.6"
  }
 },
 "nbformat": 4,
 "nbformat_minor": 5
}
