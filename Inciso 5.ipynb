{
 "cells": [
  {
   "metadata": {},
   "cell_type": "markdown",
   "source": "# Inciso 5",
   "id": "1d4ec7946b960b9f"
  },
  {
   "metadata": {},
   "cell_type": "markdown",
   "source": "Pruebas de GCD",
   "id": "f72951b5a5889a58"
  },
  {
   "cell_type": "code",
   "id": "initial_id",
   "metadata": {
    "collapsed": true,
    "ExecuteTime": {
     "end_time": "2024-11-16T16:52:08.162852Z",
     "start_time": "2024-11-16T16:52:08.113970Z"
    }
   },
   "source": [
    "def gcd(a, b):\n",
    "    while b != 0:\n",
    "        a, b = b, a % b\n",
    "    return a\n",
    "\n",
    "# Example usage\n",
    "print(gcd(396, 65))"
   ],
   "outputs": [
    {
     "name": "stdout",
     "output_type": "stream",
     "text": [
      "1\n"
     ]
    }
   ],
   "execution_count": 2
  },
  {
   "metadata": {},
   "cell_type": "markdown",
   "source": "Ahora si el codigo del inciso g)",
   "id": "d7fa1d7c72db68df"
  },
  {
   "metadata": {
    "ExecuteTime": {
     "end_time": "2024-11-16T16:52:09.505034Z",
     "start_time": "2024-11-16T16:52:08.195208Z"
    }
   },
   "cell_type": "code",
   "source": [
    "import random\n",
    "from sympy import isprime, primerange, mod_inverse, gcd\n",
    "\n",
    "# Funcion principal para el ejercicio\n",
    "def rsa_with_conditions(k=15):\n",
    "    # 1. Seleccionar p y q aleatoriamente, mayores que 2^k pero menores que 2^(k+1)\n",
    "    lower_bound = 2**k\n",
    "    upper_bound = 2**(k+1)\n",
    "    primes = list(primerange(lower_bound, upper_bound))\n",
    "    p = primes[0]  # Primer primo mayor o igual a 2^k\n",
    "    q = primes[1]  # Segundo primo mayor o igual a 2^k\n",
    "\n",
    "    # 2. Calcular n y phi(n)\n",
    "    n = p * q\n",
    "    phi = (p - 1) * (q - 1)\n",
    "\n",
    "    # 3. Seleccionar una clave publica e aleatoria dentro del rango\n",
    "    lower_e = 2 ** (k // 2)\n",
    "    upper_e = 2 ** ((k + 1) // 2) + 1\n",
    "    e_candidates = [e for e in range(lower_e, upper_e) if gcd(e, phi) == 1]\n",
    "    e = random.choice(e_candidates)\n",
    "\n",
    "    # 4. Calcular la clave privada d\n",
    "    d = mod_inverse(e, phi)\n",
    "\n",
    "    # 5. Probar con valores aleatorios de N en el rango\n",
    "    lower_N = 2 ** (k // 2)\n",
    "    test_messages = [random.randint(lower_N, n - 1) for _ in range(5)]  # 5 mensajes aleatorios\n",
    "\n",
    "    # Proceso de cifrado y descifrado\n",
    "    results = []\n",
    "    for N in test_messages:\n",
    "        C = pow(N, e, n)  # Cifrado\n",
    "        N_decrypted = pow(C, d, n)  # Descifrado\n",
    "        results.append((N, C, N_decrypted))\n",
    "\n",
    "    return {\n",
    "        \"p\": p,\n",
    "        \"q\": q,\n",
    "        \"n\": n,\n",
    "        \"phi\": phi,\n",
    "        \"e\": e,\n",
    "        \"d\": d,\n",
    "        \"messages\": results,\n",
    "    }\n",
    "\n",
    "# Ejecucion y salida de resultados\n",
    "rsa_results = rsa_with_conditions(k=15)\n",
    "print(\"Resultados del RSA:\")\n",
    "print(f\"p = {rsa_results['p']}\")\n",
    "print(f\"q = {rsa_results['q']}\")\n",
    "print(f\"n = {rsa_results['n']}\")\n",
    "print(f\"phi(n) = {rsa_results['phi']}\")\n",
    "print(f\"Clave publica (e) = {rsa_results['e']}\")\n",
    "print(f\"Clave privada (d) = {rsa_results['d']}\")\n",
    "print(\"\\nPruebas de cifrado y descifrado:\")\n",
    "for i, (N, C, N_decrypted) in enumerate(rsa_results[\"messages\"]):\n",
    "    print(f\"Mensaje {i+1}:\")\n",
    "    print(f\"  Original: {N}\")\n",
    "    print(f\"  Cifrado: {C}\")\n",
    "    print(f\"  Descifrado: {N_decrypted}\")\n",
    "    assert N == N_decrypted, \"Error: Descifrado incorrecto\"\n"
   ],
   "id": "6d77c228b5625ad4",
   "outputs": [
    {
     "name": "stdout",
     "output_type": "stream",
     "text": [
      "Resultados del RSA:\n",
      "p = 32771\n",
      "q = 32779\n",
      "n = 1074200609\n",
      "phi(n) = 1074135060\n",
      "Clave pública (e) = 151\n",
      "Clave privada (d) = 227631271\n",
      "\n",
      "Pruebas de cifrado y descifrado:\n",
      "Mensaje 1:\n",
      "  Original: 385463186\n",
      "  Cifrado: 1060570595\n",
      "  Descifrado: 385463186\n",
      "Mensaje 2:\n",
      "  Original: 479523721\n",
      "  Cifrado: 1056784704\n",
      "  Descifrado: 479523721\n",
      "Mensaje 3:\n",
      "  Original: 871937189\n",
      "  Cifrado: 311721504\n",
      "  Descifrado: 871937189\n",
      "Mensaje 4:\n",
      "  Original: 289905128\n",
      "  Cifrado: 745422446\n",
      "  Descifrado: 289905128\n",
      "Mensaje 5:\n",
      "  Original: 21617978\n",
      "  Cifrado: 1061104396\n",
      "  Descifrado: 21617978\n"
     ]
    }
   ],
   "execution_count": 3
  }
 ],
 "metadata": {
  "kernelspec": {
   "display_name": "Python 3",
   "language": "python",
   "name": "python3"
  },
  "language_info": {
   "codemirror_mode": {
    "name": "ipython",
    "version": 2
   },
   "file_extension": ".py",
   "mimetype": "text/x-python",
   "name": "python",
   "nbconvert_exporter": "python",
   "pygments_lexer": "ipython2",
   "version": "2.7.6"
  }
 },
 "nbformat": 4,
 "nbformat_minor": 5
}
