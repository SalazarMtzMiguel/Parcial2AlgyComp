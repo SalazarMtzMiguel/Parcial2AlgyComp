{
 "cells": [
  {
   "metadata": {},
   "cell_type": "markdown",
   "source": "# Examen Inciso 4",
   "id": "60ad07e289fb8ca"
  },
  {
   "cell_type": "code",
   "id": "initial_id",
   "metadata": {
    "collapsed": true,
    "ExecuteTime": {
     "end_time": "2024-11-16T16:16:29.399856Z",
     "start_time": "2024-11-16T16:16:29.372584Z"
    }
   },
   "source": [
    "def es_generador(p, candidato, factores_primos):\n",
    "    \"\"\"\n",
    "    Verifica si un numero es generador en Z_p*.\n",
    "\n",
    "    Parametros:\n",
    "    - p: numero primo\n",
    "    - candidato: posible generador\n",
    "    - factores_primos: factores primos de p-1\n",
    "\n",
    "    Retorna:\n",
    "    - True si el candidato es generador\n",
    "    - False en caso contrario\n",
    "    \"\"\"\n",
    "    pminus = p - 1  # Orden del grupo multiplicativo\n",
    "    for q in factores_primos:\n",
    "        exp = pminus // q\n",
    "        # Calcular candidato^exp mod p\n",
    "        resultado = pow(candidato, exp, p)\n",
    "        print(f\"{candidato}^{exp} mod {p} = {resultado}\")\n",
    "        # Verificar si candidato^exp ≡ 1 mod p\n",
    "        if resultado == 1:\n",
    "            return False\n",
    "    return True\n",
    "\n",
    "# Datos\n",
    "p = 181  # Numero primo\n",
    "factores_primos = [2, 3, 5]  # Factores primos de phi\n",
    "candidatos = [2, 3, 5]  # Candidatos a generadores\n",
    "\n",
    "# Verificar candidatos\n",
    "for g in candidatos:\n",
    "    if es_generador(p, g, factores_primos):\n",
    "        print(f\"{g} es un generador de Z_{p}*\")\n",
    "    else:\n",
    "        print(f\"{g} NO es un generador de Z_{p}*\")"
   ],
   "outputs": [
    {
     "name": "stdout",
     "output_type": "stream",
     "text": [
      "2^90 mod 181 = 180\n",
      "2^60 mod 181 = 48\n",
      "2^36 mod 181 = 59\n",
      "2 es un generador de Z_181*\n",
      "3^90 mod 181 = 1\n",
      "3 NO es un generador de Z_181*\n",
      "5^90 mod 181 = 1\n",
      "5 NO es un generador de Z_181*\n"
     ]
    }
   ],
   "execution_count": 11
  },
  {
   "metadata": {},
   "cell_type": "markdown",
   "source": [
    "d) Desarrolle un notebook de python en donde se puedan cumplir los siguientes condiciones:\n",
    "\tA. Seleccione k = 10.\n",
    "\tB. Se obtenga un primo aleatorio en el rango 2k-1 <= p < 2k\n",
    "\tC. Resuelva los incisos a),b) y c) para el valor p elegido.\n",
    "\tD. Verifique que el α obtenido es efectivamente un generador del campo.\n",
    "\tE. Use su notebook para verificar su respuesta a los incisos a) a d)."
   ],
   "id": "86c14a0284016a42"
  },
  {
   "metadata": {
    "ExecuteTime": {
     "end_time": "2024-11-16T16:16:29.433254Z",
     "start_time": "2024-11-16T16:16:29.420008Z"
    }
   },
   "cell_type": "code",
   "source": [
    "import random\n",
    "from sympy import isprime, primerange\n",
    "\n",
    "# A. Seleccione k = 10\n",
    "k = 10\n",
    "\n",
    "# B. Obtener un primo aleatorio en el rango 2^(k-1) <= p < 2^k\n",
    "rango_inferior = 2**(k-1)\n",
    "rango_superior = 2**k\n",
    "primos = list(primerange(rango_inferior, rango_superior))\n",
    "p = random.choice(primos)\n",
    "print(f\"Primo seleccionado: {p}\")\n",
    "\n",
    "# C. Resolver los incisos a), b) y c) para el valor p elegido\n",
    "# (a) Calcular phi(p)\n",
    "pminus = p - 1\n",
    "print(f\"p-1({p}) = {pminus}\")\n",
    "\n",
    "# (b) Obtener los factores primos de phi(p)\n",
    "def obtener_factores_primos(n):\n",
    "    factores = []\n",
    "    for i in range(2, n + 1):\n",
    "        if n % i == 0 and isprime(i):\n",
    "            factores.append(i)\n",
    "    return factores\n",
    "\n",
    "factores_primos = obtener_factores_primos(pminus)\n",
    "print(f\"Factores primos de {pminus}: {factores_primos}\")\n",
    "\n",
    "# (c) Encontrar un generador del campo\n",
    "candidatos = range(2, p)\n",
    "generador = None\n",
    "for g in candidatos:\n",
    "    if es_generador(p, g, factores_primos):\n",
    "        generador = g\n",
    "        break\n",
    "\n",
    "if generador:\n",
    "    print(f\"Generador encontrado: {generador}\")\n",
    "else:\n",
    "    print(\"No se encontró un generador\")\n",
    "\n",
    "# D. Verificar que el α obtenido es efectivamente un generador del campo\n",
    "if generador:\n",
    "    es_generador_valido = es_generador(p, generador, factores_primos)\n",
    "    print(f\"El generador {generador} es válido: {es_generador_valido}\")\n",
    "\n",
    "# E. Verificar respuestas a los incisos a) a d)\n",
    "print(f\"Primo p: {p}\")\n",
    "print(f\"p-1(p): {pminus}\")\n",
    "print(f\"Factores primos de p-1(p): {factores_primos}\")\n",
    "print(f\"Generador: {generador}\")\n",
    "print(f\"El generador {generador} es válido: {es_generador_valido}\")"
   ],
   "id": "10dc90e338767643",
   "outputs": [
    {
     "name": "stdout",
     "output_type": "stream",
     "text": [
      "Primo seleccionado: 853\n",
      "p-1(853) = 852\n",
      "Factores primos de 852: [2, 3, 71]\n",
      "2^426 mod 853 = 852\n",
      "2^284 mod 853 = 632\n",
      "2^12 mod 853 = 684\n",
      "Generador encontrado: 2\n",
      "2^426 mod 853 = 852\n",
      "2^284 mod 853 = 632\n",
      "2^12 mod 853 = 684\n",
      "El generador 2 es válido: True\n",
      "Primo p: 853\n",
      "phi(p): 852\n",
      "Factores primos de phi(p): [2, 3, 71]\n",
      "Generador: 2\n",
      "El generador 2 es válido: True\n"
     ]
    }
   ],
   "execution_count": 12
  },
  {
   "metadata": {
    "ExecuteTime": {
     "end_time": "2024-11-16T16:16:29.456664Z",
     "start_time": "2024-11-16T16:16:29.451449Z"
    }
   },
   "cell_type": "code",
   "source": "",
   "id": "d42c69768db2b341",
   "outputs": [],
   "execution_count": null
  }
 ],
 "metadata": {
  "kernelspec": {
   "display_name": "Python 3",
   "language": "python",
   "name": "python3"
  },
  "language_info": {
   "codemirror_mode": {
    "name": "ipython",
    "version": 2
   },
   "file_extension": ".py",
   "mimetype": "text/x-python",
   "name": "python",
   "nbconvert_exporter": "python",
   "pygments_lexer": "ipython2",
   "version": "2.7.6"
  }
 },
 "nbformat": 4,
 "nbformat_minor": 5
}
